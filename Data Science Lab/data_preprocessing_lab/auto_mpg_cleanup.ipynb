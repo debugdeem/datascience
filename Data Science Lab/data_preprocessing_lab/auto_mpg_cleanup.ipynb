{
 "cells": [
  {
   "cell_type": "code",
   "execution_count": 11,
   "metadata": {},
   "outputs": [
    {
     "name": "stdout",
     "output_type": "stream",
     "text": [
      "    MPG  Cylinder  Displacement Horsepower  Weight  Acceleration  Model Year  \\\n",
      "0  18.0         8         307.0      130.0  3504.0          12.0          70   \n",
      "1  15.0         8         350.0      165.0  3693.0          11.5          70   \n",
      "2  18.0         8         318.0      150.0  3436.0          11.0          70   \n",
      "3  16.0         8         304.0      150.0  3433.0          12.0          70   \n",
      "4  17.0         8         302.0      140.0  3449.0          10.5          70   \n",
      "\n",
      "   Origin                   Car Name  \n",
      "0       1  chevrolet chevelle malibu  \n",
      "1       1          buick skylark 320  \n",
      "2       1         plymouth satellite  \n",
      "3       1              amc rebel sst  \n",
      "4       1                ford torino  \n"
     ]
    }
   ],
   "source": [
    "# Load the dataset into pandas dataframe. use 'read_csv' function. \n",
    "# Open CMD and install necessary packages. \"pip3 install pandas\"\n",
    "\n",
    "import pandas as pd\n",
    "\n",
    "# There are no column headers, so specifying column names\n",
    "column_names = ['MPG', 'Cylinder', 'Displacement', 'Horsepower', 'Weight', 'Acceleration', 'Model Year', 'Origin', 'Car Name']\n",
    "data = pd.read_csv('auto-mpg.data', delim_whitespace=True, names=column_names)\n",
    "\n",
    "# Display the first 5 rows of the DF with headers\n",
    "print(data.head())"
   ]
  },
  {
   "cell_type": "code",
   "execution_count": 12,
   "metadata": {},
   "outputs": [
    {
     "name": "stdout",
     "output_type": "stream",
     "text": [
      "    MPG  Cylinder  Displacement  Horsepower  Weight  Acceleration  Model Year  \\\n",
      "0  18.0         8         307.0       130.0  3504.0          12.0          70   \n",
      "1  15.0         8         350.0       165.0  3693.0          11.5          70   \n",
      "2  18.0         8         318.0       150.0  3436.0          11.0          70   \n",
      "3  16.0         8         304.0       150.0  3433.0          12.0          70   \n",
      "4  17.0         8         302.0       140.0  3449.0          10.5          70   \n",
      "\n",
      "   Origin                   Car Name  \n",
      "0       1  chevrolet chevelle malibu  \n",
      "1       1          buick skylark 320  \n",
      "2       1         plymouth satellite  \n",
      "3       1              amc rebel sst  \n",
      "4       1                ford torino  \n"
     ]
    }
   ],
   "source": [
    "# Handle missing values, the horsepower column contains '?' for some missing values.\n",
    "# need to replace these with the mean of the other values in the column.\n",
    "\n",
    "import numpy as np\n",
    "\n",
    "# Replace '?' with NaN\n",
    "data['Horsepower'].replace('?',np.nan, inplace=True)\n",
    "\n",
    "# Convert the column to float\n",
    "data['Horsepower'] = data['Horsepower'].astype(float)\n",
    "\n",
    "# Replace NaNs with mean of the column\n",
    "data['Horsepower'].fillna(data['Horsepower'].mean(), inplace=True)\n",
    "print(data.head())"
   ]
  },
  {
   "cell_type": "code",
   "execution_count": 13,
   "metadata": {},
   "outputs": [
    {
     "name": "stdout",
     "output_type": "stream",
     "text": [
      "        MPG  Cylinder  Displacement  Horsepower  Weight  Acceleration  \\\n",
      "0  0.239362         8         307.0       130.0  3504.0          12.0   \n",
      "1  0.159574         8         350.0       165.0  3693.0          11.5   \n",
      "2  0.239362         8         318.0       150.0  3436.0          11.0   \n",
      "3  0.186170         8         304.0       150.0  3433.0          12.0   \n",
      "4  0.212766         8         302.0       140.0  3449.0          10.5   \n",
      "\n",
      "   Model Year  Origin                   Car Name  \n",
      "0          70       1  chevrolet chevelle malibu  \n",
      "1          70       1          buick skylark 320  \n",
      "2          70       1         plymouth satellite  \n",
      "3          70       1              amc rebel sst  \n",
      "4          70       1                ford torino  \n"
     ]
    }
   ],
   "source": [
    "# Normalize the 'MPG' column so its values range from 0 to 1\n",
    "data['MPG'] = (data['MPG'] - data['MPG'].min()) / (data['MPG'].max() - data['MPG'].min())\n",
    "print(data.head())"
   ]
  },
  {
   "cell_type": "code",
   "execution_count": 15,
   "metadata": {},
   "outputs": [
    {
     "name": "stdout",
     "output_type": "stream",
     "text": [
      "        MPG  Cylinder  Displacement  Horsepower  Weight  Acceleration  \\\n",
      "0  0.239362         8         307.0       130.0  3504.0          12.0   \n",
      "1  0.159574         8         350.0       165.0  3693.0          11.5   \n",
      "2  0.239362         8         318.0       150.0  3436.0          11.0   \n",
      "3  0.186170         8         304.0       150.0  3433.0          12.0   \n",
      "4  0.212766         8         302.0       140.0  3449.0          10.5   \n",
      "\n",
      "   Model Year                   Car Name  Origin_1  Origin_2  Origin_3  \n",
      "0          70  chevrolet chevelle malibu      True     False     False  \n",
      "1          70          buick skylark 320      True     False     False  \n",
      "2          70         plymouth satellite      True     False     False  \n",
      "3          70              amc rebel sst      True     False     False  \n",
      "4          70                ford torino      True     False     False  \n"
     ]
    }
   ],
   "source": [
    "# One-hot encoding for the 'Origin' column because it contains categorical data\n",
    "\n",
    "data = pd. get_dummies(data, columns=['Origin'])\n",
    "print(data.head())"
   ]
  },
  {
   "cell_type": "code",
   "execution_count": 16,
   "metadata": {},
   "outputs": [],
   "source": [
    "# Save the preprocessed dataframe as CSV\n",
    "\n",
    "data.to_csv('cleaned_data.csv', index=False)"
   ]
  }
 ],
 "metadata": {
  "kernelspec": {
   "display_name": "Python 3",
   "language": "python",
   "name": "python3"
  },
  "language_info": {
   "codemirror_mode": {
    "name": "ipython",
    "version": 3
   },
   "file_extension": ".py",
   "mimetype": "text/x-python",
   "name": "python",
   "nbconvert_exporter": "python",
   "pygments_lexer": "ipython3",
   "version": "3.10.6"
  },
  "orig_nbformat": 4
 },
 "nbformat": 4,
 "nbformat_minor": 2
}
